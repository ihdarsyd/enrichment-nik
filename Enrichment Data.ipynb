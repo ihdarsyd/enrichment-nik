{
 "cells": [
  {
   "cell_type": "code",
   "execution_count": 1,
   "metadata": {},
   "outputs": [],
   "source": [
    "# https://person-dukcapil.vercel.app/api/data?nik=3174061410920006"
   ]
  },
  {
   "attachments": {
    "image.png": {
     "image/png": "[encoded data removed]"
    }
   },
   "cell_type": "markdown",
   "metadata": {},
   "source": [
    "# Enrichment Data\n",
    "Prosess:\n",
    "- Validation: Periksa apakah data seperti NIK (Nomor Induk Kependudukan) valid\n",
    "- Request to Dukcapil: Menggunakan API Dukcapil untuk mencari data berdasarkan NIK.\n",
    "- Transformation:  Ubah data hasil request API Dukcapil menjadi format yang sesuai\n",
    "- Load: Menyimpan data yang sudah divalidasi dan ditransformasi ke dalam database\n",
    "\n",
    "![image.png](attachment:image.png)"
   ]
  },
  {
   "cell_type": "markdown",
   "metadata": {},
   "source": [
    "## Validation Prosess"
   ]
  },
  {
   "cell_type": "markdown",
   "metadata": {},
   "source": [
    "Proses ini melakukan validasi struktur nik dari raw data.\n",
    "\n",
    "Kelas Validation memvalidasi format NIK sebelum dikirim ke API Dukcapil. Mendukung validasi data dari sumber SPPTTI dan DPO.\n",
    "\n",
    "Metode:\n",
    "- validate_nik_spptti(): Memvalidasi format NIK dari data SPPTTI.\n",
    "- validate_nik_dpo(): Memvalidasi format NIK dari data DPO.\n",
    "- validate_person(): Menentukan sumber data (SPPTTI atau DPO) dan mengembalikan NIK jika valid."
   ]
  },
  {
   "cell_type": "code",
   "execution_count": 2,
   "metadata": {},
   "outputs": [],
   "source": [
    "import json\n",
    "\n",
    "class Validation:\n",
    "    \"\"\" \n",
    "    Validation is a class to validate data before sending to Dukcapil API\n",
    "\n",
    "    Attributes:\n",
    "    -----------\n",
    "    data : dict\n",
    "        Data to be validated\n",
    "    \n",
    "    Methods:\n",
    "    --------\n",
    "    validate_nik_spptti() -> str\n",
    "        Validate NIK from SPPTTI data\n",
    "    validate_nik_dpo() -> str\n",
    "        Validate NIK from DPO data\n",
    "    validate_person() -> str\n",
    "        Validate NIK from SPPTTI or DPO data to be sent to Dukcapil API\n",
    "\n",
    "    \"\"\"\n",
    "    def __init__(self, data):\n",
    "        # convert to json\n",
    "        self.data = json.loads(data)\n",
    "\n",
    "    def validate_nik_spptti(self):\n",
    "        # validate nik format\n",
    "        nik = self.data.get('national_id')\n",
    "\n",
    "        # Check if the NIK has exactly 16 digits\n",
    "        if len(nik) == 16:\n",
    "            return nik\n",
    "        \n",
    "    def validate_nik_dpo(self):\n",
    "        # validate nik format\n",
    "        jenis_identitas = self.data.get('jenis_identitas')\n",
    "\n",
    "        if jenis_identitas == 'KTP':\n",
    "            nik = self.data.get('nomor_identitas')\n",
    "\n",
    "            # Check if the NIK has exactly 16 digits\n",
    "            if len(nik) == 16:\n",
    "                return nik\n",
    "\n",
    "\n",
    "    def validate_person(self):\n",
    "        # check if data is not empty\n",
    "        if self.data:\n",
    "            if self.data.get('source') == 'spptti':\n",
    "                self.nik = self.validate_nik_spptti()\n",
    "                return self.nik\n",
    "            elif self.data.get('source') == 'dpo':\n",
    "                self.nik = self.validate_nik_dpo()\n",
    "                return self.nik"
   ]
  },
  {
   "cell_type": "markdown",
   "metadata": {},
   "source": [
    "## Request Process"
   ]
  },
  {
   "cell_type": "markdown",
   "metadata": {},
   "source": [
    "Kelas `DukcapilPerson` digunakan untuk mengirim permintaan ke API Dukcapil dan mengambil data seseorang berdasarkan NIK.\n",
    "\n",
    "### Metode\n",
    "- **`_request(path: str)`**: Mengirim permintaan GET ke API dan mengembalikan respons dalam format JSON.\n",
    "- **`search_nik(nik: str)`**: Menggabungkan NIK ke endpoint API dan memanggil metode `_request` untuk mengambil data orang berdasarkan NIK.\n"
   ]
  },
  {
   "cell_type": "code",
   "execution_count": 3,
   "metadata": {},
   "outputs": [],
   "source": [
    "import os\n",
    "import requests\n",
    "\n",
    "\n",
    "class DukcapilPerson:\n",
    "    \"\"\"\n",
    "    DukcapilPerson is a class to get data from Dukcapil API\n",
    "\n",
    "    Attributes:\n",
    "    -----------\n",
    "    dukcapil_url : str\n",
    "        Dukcapil API URL\n",
    "    \n",
    "    Methods:\n",
    "    --------\n",
    "    _request(path : str) -> requests\n",
    "        Send request to Dukcapil API\n",
    "    search_nik(nik : str) -> requests\n",
    "        Get data from Dukcapil API by NIK\n",
    "    \"\"\"\n",
    "    def __init__(self,):\n",
    "        self.dukcapil_url = os.getenv('DUKCAPIL_URL')\n",
    "\n",
    "    def _request(\n",
    "            self,\n",
    "            path : str\n",
    "        ) -> requests:\n",
    "        response = requests.get(path)\n",
    "        return response.json()\n",
    "    \n",
    "    def search_nik(self, nik):\n",
    "        path = '/api/data?nik=' + nik\n",
    "        return self._request(path = self.dukcapil_url + path)"
   ]
  },
  {
   "cell_type": "markdown",
   "metadata": {},
   "source": [
    "## Transform Proces"
   ]
  },
  {
   "cell_type": "markdown",
   "metadata": {},
   "source": [
    "Kelas Transform mengambil data yang dikembalikan oleh API Dukcapil dan mengonversinya ke format yang diperlukan untuk SPPTTI atau DPO.\n",
    "\n",
    "Metode\n",
    "- transform_data(): Mengembalikan kamus dengan detail orang yang siap untuk dimasukkan ke sistem SPPTTI atau DPO."
   ]
  },
  {
   "cell_type": "code",
   "execution_count": 4,
   "metadata": {},
   "outputs": [],
   "source": [
    "class Transform:\n",
    "    \"\"\"\n",
    "    Transform is a class to transform data from Dukcapil API to be sent to SPPTTI or DPO API\n",
    "\n",
    "    Attributes:\n",
    "    -----------\n",
    "    dukcapil_data : dict\n",
    "        Data from Dukcapil API\n",
    "    \n",
    "    Methods:\n",
    "    --------\n",
    "    transform_data() -> dict\n",
    "        Transform data from Dukcapil API to be sent to SPPTTI or DPO API\n",
    "        \n",
    "    \"\"\"\n",
    "    def __init__(self, dukcapil_data):\n",
    "        self.dukcapil_data = dukcapil_data\n",
    "\n",
    "    def transform_data(self):\n",
    "        return {\n",
    "            'jenis_identitas': 'KTP',\n",
    "            'nomor_identitas': self.dukcapil_data['nik'],\n",
    "            'nama_lengkap': self.dukcapil_data['nama'],\n",
    "            'tanggal_lahir': self.dukcapil_data['tanggal_lahir'],\n",
    "            'tempat_lahir': self.dukcapil_data['tempat_lahir'],\n",
    "            'jenis_kelamin': self.dukcapil_data['jenis_kelamin'],\n",
    "            'alamat': self.dukcapil_data['alamat'],\n",
    "            'rt': self.dukcapil_data['rt'],\n",
    "            'rw': self.dukcapil_data['rw'],\n",
    "            'kelurahan': self.dukcapil_data['kelurahan'],\n",
    "            'kecamatan': self.dukcapil_data['kecamatan'],\n",
    "            'kabupaten_kota': self.dukcapil_data['kota'],\n",
    "            'provinsi': self.dukcapil_data['provinsi'],\n",
    "            'agama': self.dukcapil_data['agama'],\n",
    "            'pekerjaan': self.dukcapil_data['pekerjaan'],\n",
    "            'kewarganegaraan': self.dukcapil_data['kewarganegaraan'],\n",
    "            'is_validate': True\n",
    "        }"
   ]
  },
  {
   "cell_type": "markdown",
   "metadata": {},
   "source": [
    "## Load Process"
   ]
  },
  {
   "cell_type": "markdown",
   "metadata": {},
   "source": [
    "- Membuat Funsgi untuk memuat data ke dalam tabel PostgreSQL sebagai row baru dengan kondisi ```is_validate = True```."
   ]
  },
  {
   "cell_type": "code",
   "execution_count": 11,
   "metadata": {},
   "outputs": [],
   "source": [
    "from sqlalchemy import create_engine\n",
    "import pandas as pd\n",
    "from dotenv import load_dotenv\n",
    "import os\n",
    "\n",
    "load_dotenv(\".env\")\n",
    "def load_data_to_postgres(data: pd.DataFrame, table_name: str):\n",
    "    \"\"\"\n",
    "    Load data into a PostgreSQL database using SQLAlchemy.\n",
    "\n",
    "    Parameters:\n",
    "    -----------\n",
    "    data : pd.DataFrame\n",
    "        The data to be loaded into the database.\n",
    "    \n",
    "    table_name : str\n",
    "        The name of the table where data should be inserted.\n",
    "\n",
    "    Returns:\n",
    "    --------\n",
    "    None\n",
    "    \"\"\"\n",
    "    DB_HOST = os.getenv('DB_HOST')\n",
    "    DB_PORT = os.getenv('DB_PORT')\n",
    "    DB_NAME = os.getenv('DB_NAME')\n",
    "    DB_USER = os.getenv('DB_USER')\n",
    "    DB_PASSWORD = os.getenv('DB_PASS')\n",
    "    db_url = f'postgresql://{DB_USER}:{DB_PASSWORD}@{DB_HOST}:{DB_PORT}/{DB_NAME}'\n",
    "    try:\n",
    "        # Create the SQLAlchemy engine\n",
    "        engine = create_engine(db_url)\n",
    "\n",
    "        # Load data into PostgreSQL\n",
    "        data.to_sql(table_name, engine, if_exists='append', index=False)\n",
    "\n",
    "        print(f\"Data successfully loaded into the '{table_name}' table.\")\n",
    "        \n",
    "    except Exception as e:\n",
    "        print(f\"Error loading data: {e}\")\n",
    "\n",
    "    finally:\n",
    "        # Dispose of the engine connection after use\n",
    "        engine.dispose()\n",
    "\n",
    "\n",
    "def extract_data(table_name):\n",
    "    \"\"\"\n",
    "    Extract data from a PostgreSQL database using SQLAlchemy.\n",
    "\n",
    "    Parameters:\n",
    "    -----------\n",
    "    table_name : str\n",
    "        The name of the table to extract data from.\n",
    "\n",
    "    Returns:\n",
    "    --------\n",
    "    data : pd.DataFrame\n",
    "        The data extracted from the database. \n",
    "    \"\"\"\n",
    "    DB_HOST = os.getenv('DB_HOST')\n",
    "    DB_PORT = os.getenv('DB_PORT')\n",
    "    DB_NAME = os.getenv('DB_NAME')\n",
    "    DB_USER = os.getenv('DB_USER')\n",
    "    DB_PASSWORD = os.getenv('DB_PASS')\n",
    "    db_url = f'postgresql://{DB_USER}:{DB_PASSWORD}@{DB_HOST}:{DB_PORT}/{DB_NAME}'\n",
    "    try:\n",
    "        # Create the SQLAlchemy engine\n",
    "        engine = create_engine(db_url)\n",
    "\n",
    "        # Load data into PostgreSQL\n",
    "        data = pd.read_sql(f\"SELECT * FROM {table_name} WHERE is_validate = True\", engine)\n",
    "\n",
    "        return data\n",
    "        \n",
    "    except Exception as e:\n",
    "        print(f\"Error loading data: {e}\")\n",
    "\n",
    "    finally:\n",
    "        # Dispose of the engine connection after use\n",
    "        engine.dispose()"
   ]
  },
  {
   "cell_type": "code",
   "execution_count": 12,
   "metadata": {},
   "outputs": [
    {
     "name": "stdout",
     "output_type": "stream",
     "text": [
      "Data successfully loaded into the 'person' table.\n"
     ]
    }
   ],
   "source": [
    "import pandas as pd\n",
    "\n",
    "\n",
    "# Do Enrichment process\n",
    "dukcapil = DukcapilPerson()\n",
    "\n",
    "# read data from spppti.json\n",
    "with open('spptti.json') as f:\n",
    "    data = f.read()\n",
    "validate = Validation(data)\n",
    "nik = validate.validate_person()\n",
    "if nik:\n",
    "    dukcapil_data = dukcapil.search_nik(nik)\n",
    "    if dukcapil_data.get('message') == 'Person not found':\n",
    "        print('NIK not found in Dukcapil')\n",
    "    else:\n",
    "        transform = Transform(dukcapil_data)\n",
    "        data = transform.transform_data()\n",
    "        load_data_to_postgres(pd.DataFrame([data]), 'person')"
   ]
  },
  {
   "cell_type": "code",
   "execution_count": 13,
   "metadata": {},
   "outputs": [],
   "source": [
    "# Validate Dukcapil Only when the NIK is not validate in table person\n",
    "df_person = extract_data('person')\n",
    "\n",
    "dukcapil = DukcapilPerson()\n",
    "\n",
    "# read data from spppti.json\n",
    "with open('spptti.json') as f:\n",
    "    data = f.read()\n",
    "\n",
    "validate = Validation(data)\n",
    "nik = validate.validate_person()\n",
    "\n",
    "# if nik is not in df_person\n",
    "if nik not in df_person['nomor_identitas'].values and nik:\n",
    "    dukcapil_data = dukcapil.search_nik(nik)\n",
    "    if dukcapil_data.get('message') == 'Person not found':\n",
    "        print('NIK not found in Dukcapil')\n",
    "    else:\n",
    "        transform = Transform(dukcapil_data)\n",
    "        data = transform.transform_data()\n",
    "        load_data_to_postgres(pd.DataFrame([data]), 'person')"
   ]
  },
  {
   "cell_type": "code",
   "execution_count": null,
   "metadata": {},
   "outputs": [],
   "source": []
  }
 ],
 "metadata": {
  "kernelspec": {
   "display_name": "Python 3",
   "language": "python",
   "name": "python3"
  },
  "language_info": {
   "codemirror_mode": {
    "name": "ipython",
    "version": 3
   },
   "file_extension": ".py",
   "mimetype": "text/x-python",
   "name": "python",
   "nbconvert_exporter": "python",
   "pygments_lexer": "ipython3",
   "version": "3.11.9"
  }
 },
 "nbformat": 4,
 "nbformat_minor": 2
}
